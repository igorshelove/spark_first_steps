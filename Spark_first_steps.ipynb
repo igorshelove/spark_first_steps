{
  "nbformat": 4,
  "nbformat_minor": 0,
  "metadata": {
    "colab": {
      "name": "Spark_first_steps.ipynb",
      "provenance": [],
      "collapsed_sections": []
    },
    "kernelspec": {
      "name": "python3",
      "display_name": "Python 3"
    },
    "language_info": {
      "name": "python"
    }
  },
  "cells": [
    {
      "cell_type": "code",
      "metadata": {
        "colab": {
          "base_uri": "https://localhost:8080/"
        },
        "id": "BkOnWNoho0H6",
        "outputId": "cf46c0d4-5bdc-4877-bda7-0d7c1181e172"
      },
      "source": [
        "!pip install  pyspark"
      ],
      "execution_count": 2,
      "outputs": [
        {
          "output_type": "stream",
          "name": "stdout",
          "text": [
            "Collecting pyspark\n",
            "  Downloading pyspark-3.1.2.tar.gz (212.4 MB)\n",
            "\u001b[K     |████████████████████████████████| 212.4 MB 62 kB/s \n",
            "\u001b[?25hCollecting py4j==0.10.9\n",
            "  Downloading py4j-0.10.9-py2.py3-none-any.whl (198 kB)\n",
            "\u001b[K     |████████████████████████████████| 198 kB 64.4 MB/s \n",
            "\u001b[?25hBuilding wheels for collected packages: pyspark\n",
            "  Building wheel for pyspark (setup.py) ... \u001b[?25l\u001b[?25hdone\n",
            "  Created wheel for pyspark: filename=pyspark-3.1.2-py2.py3-none-any.whl size=212880768 sha256=38ff3d9ecd19b63861bcd04d34b040db3cc0e0677cd1b8440fb951d589dc4015\n",
            "  Stored in directory: /root/.cache/pip/wheels/a5/0a/c1/9561f6fecb759579a7d863dcd846daaa95f598744e71b02c77\n",
            "Successfully built pyspark\n",
            "Installing collected packages: py4j, pyspark\n",
            "Successfully installed py4j-0.10.9 pyspark-3.1.2\n"
          ]
        }
      ]
    },
    {
      "cell_type": "code",
      "metadata": {
        "colab": {
          "base_uri": "https://localhost:8080/"
        },
        "id": "7Q1HN6j39kmq",
        "outputId": "3ac03ce1-42a0-4af9-850b-d9409c447c95"
      },
      "source": [
        "# примонтировать Google Drive\n",
        "from google.colab import drive\n",
        "drive.mount('/content/drive')"
      ],
      "execution_count": 81,
      "outputs": [
        {
          "output_type": "stream",
          "name": "stdout",
          "text": [
            "Mounted at /content/drive\n"
          ]
        }
      ]
    },
    {
      "cell_type": "code",
      "metadata": {
        "id": "HepP6Zz3osHP"
      },
      "source": [
        "from pyspark.sql  import  SparkSession"
      ],
      "execution_count": 7,
      "outputs": []
    },
    {
      "cell_type": "code",
      "metadata": {
        "id": "j1jGH2Fqoxnl"
      },
      "source": [
        "#создаем сессию в pyspark\n",
        "spark = SparkSession.builder.getOrCreate()"
      ],
      "execution_count": 9,
      "outputs": []
    },
    {
      "cell_type": "code",
      "metadata": {
        "id": "8D0NGA2n-TYF"
      },
      "source": [
        "df  = spark.read.format('csv').option('header', 'true').load('/content/drive/MyDrive/cars.csv')"
      ],
      "execution_count": 85,
      "outputs": []
    },
    {
      "cell_type": "code",
      "metadata": {
        "colab": {
          "base_uri": "https://localhost:8080/"
        },
        "id": "sKT5k7ml_p6G",
        "outputId": "e6d66370-cc10-4c19-cf6d-e833e66a7ea3"
      },
      "source": [
        "df.show(5)"
      ],
      "execution_count": 91,
      "outputs": [
        {
          "output_type": "stream",
          "name": "stdout",
          "text": [
            "+-----------------+----------+------------+------+--------------+-------------+-----------+--------------+-----------+---------------+---------+------------+-----+----------+---------+---------------+---------------+----------------+----------+---------+---------+---------+---------+---------+---------+---------+---------+---------+---------+---------------+\n",
            "|manufacturer_name|model_name|transmission| color|odometer_value|year_produced|engine_fuel|engine_has_gas|engine_type|engine_capacity|body_type|has_warranty|state|drivetrain|price_usd|is_exchangeable|location_region|number_of_photos|up_counter|feature_0|feature_1|feature_2|feature_3|feature_4|feature_5|feature_6|feature_7|feature_8|feature_9|duration_listed|\n",
            "+-----------------+----------+------------+------+--------------+-------------+-----------+--------------+-----------+---------------+---------+------------+-----+----------+---------+---------------+---------------+----------------+----------+---------+---------+---------+---------+---------+---------+---------+---------+---------+---------+---------------+\n",
            "|           Subaru|   Outback|   automatic|silver|        190000|         2010|   gasoline|         False|   gasoline|            2.5|universal|       False|owned|       all|  10900.0|          False|   Минская обл.|               9|        13|    False|     True|     True|     True|    False|     True|    False|     True|     True|     True|             16|\n",
            "|           Subaru|   Outback|   automatic|  blue|        290000|         2002|   gasoline|         False|   gasoline|            3.0|universal|       False|owned|       all|   5000.0|           True|   Минская обл.|              12|        54|    False|     True|    False|    False|     True|     True|    False|    False|    False|     True|             83|\n",
            "|           Subaru|  Forester|   automatic|   red|        402000|         2001|   gasoline|         False|   gasoline|            2.5|      suv|       False|owned|       all|   2800.0|           True|   Минская обл.|               4|        72|    False|     True|    False|    False|    False|    False|    False|    False|     True|     True|            151|\n",
            "|           Subaru|   Impreza|  mechanical|  blue|         10000|         1999|   gasoline|         False|   gasoline|            3.0|    sedan|       False|owned|       all|   9999.0|           True|   Минская обл.|               9|        42|     True|    False|    False|    False|    False|    False|    False|    False|    False|    False|             86|\n",
            "|           Subaru|    Legacy|   automatic| black|        280000|         2001|   gasoline|         False|   gasoline|            2.5|universal|       False|owned|       all|  2134.11|           True|Гомельская обл.|              14|         7|    False|     True|    False|     True|     True|    False|    False|    False|    False|     True|              7|\n",
            "+-----------------+----------+------------+------+--------------+-------------+-----------+--------------+-----------+---------------+---------+------------+-----+----------+---------+---------------+---------------+----------------+----------+---------+---------+---------+---------+---------+---------+---------+---------+---------+---------+---------------+\n",
            "only showing top 5 rows\n",
            "\n"
          ]
        }
      ]
    },
    {
      "cell_type": "markdown",
      "metadata": {
        "id": "GtFNrNbyAgUg"
      },
      "source": [
        "Смотрим первую строку в транспонированном виде"
      ]
    },
    {
      "cell_type": "code",
      "metadata": {
        "colab": {
          "base_uri": "https://localhost:8080/"
        },
        "id": "IK7KOzSS_z6t",
        "outputId": "392ad33a-d9a6-4c10-eafb-df7836884fc8"
      },
      "source": [
        "df.show(1 , vertical=True)"
      ],
      "execution_count": 94,
      "outputs": [
        {
          "output_type": "stream",
          "name": "stdout",
          "text": [
            "-RECORD 0-------------------------\n",
            " manufacturer_name | Subaru       \n",
            " model_name        | Outback      \n",
            " transmission      | automatic    \n",
            " color             | silver       \n",
            " odometer_value    | 190000       \n",
            " year_produced     | 2010         \n",
            " engine_fuel       | gasoline     \n",
            " engine_has_gas    | False        \n",
            " engine_type       | gasoline     \n",
            " engine_capacity   | 2.5          \n",
            " body_type         | universal    \n",
            " has_warranty      | False        \n",
            " state             | owned        \n",
            " drivetrain        | all          \n",
            " price_usd         | 10900.0      \n",
            " is_exchangeable   | False        \n",
            " location_region   | Минская обл. \n",
            " number_of_photos  | 9            \n",
            " up_counter        | 13           \n",
            " feature_0         | False        \n",
            " feature_1         | True         \n",
            " feature_2         | True         \n",
            " feature_3         | True         \n",
            " feature_4         | False        \n",
            " feature_5         | True         \n",
            " feature_6         | False        \n",
            " feature_7         | True         \n",
            " feature_8         | True         \n",
            " feature_9         | True         \n",
            " duration_listed   | 16           \n",
            "only showing top 1 row\n",
            "\n"
          ]
        }
      ]
    },
    {
      "cell_type": "markdown",
      "metadata": {
        "id": "4NWwdMC6BfAC"
      },
      "source": [
        "Выбор  полей SELECT"
      ]
    },
    {
      "cell_type": "code",
      "metadata": {
        "colab": {
          "base_uri": "https://localhost:8080/"
        },
        "id": "42U0urKKApDH",
        "outputId": "1b6daac1-efd0-42e9-8346-514f0185c576"
      },
      "source": [
        "df.select('manufacturer_name', 'model_name').show(5)\n",
        "df.select(df['manufacturer_name'], df['model_name']).show(5)"
      ],
      "execution_count": 98,
      "outputs": [
        {
          "output_type": "stream",
          "name": "stdout",
          "text": [
            "+-----------------+----------+\n",
            "|manufacturer_name|model_name|\n",
            "+-----------------+----------+\n",
            "|           Subaru|   Outback|\n",
            "|           Subaru|   Outback|\n",
            "|           Subaru|  Forester|\n",
            "|           Subaru|   Impreza|\n",
            "|           Subaru|    Legacy|\n",
            "+-----------------+----------+\n",
            "only showing top 5 rows\n",
            "\n",
            "+-----------------+----------+\n",
            "|manufacturer_name|model_name|\n",
            "+-----------------+----------+\n",
            "|           Subaru|   Outback|\n",
            "|           Subaru|   Outback|\n",
            "|           Subaru|  Forester|\n",
            "|           Subaru|   Impreza|\n",
            "|           Subaru|    Legacy|\n",
            "+-----------------+----------+\n",
            "only showing top 5 rows\n",
            "\n"
          ]
        }
      ]
    },
    {
      "cell_type": "code",
      "metadata": {
        "colab": {
          "base_uri": "https://localhost:8080/"
        },
        "id": "ScvtLKF_CDly",
        "outputId": "8648c55c-7169-4449-d515-44256e384505"
      },
      "source": [
        "import pyspark.sql.functions as f \n",
        "df.select(f.col('manufacturer_name'), f.col('model_name')).show(5)"
      ],
      "execution_count": 101,
      "outputs": [
        {
          "output_type": "stream",
          "name": "stdout",
          "text": [
            "+-----------------+----------+\n",
            "|manufacturer_name|model_name|\n",
            "+-----------------+----------+\n",
            "|           Subaru|   Outback|\n",
            "|           Subaru|   Outback|\n",
            "|           Subaru|  Forester|\n",
            "|           Subaru|   Impreza|\n",
            "|           Subaru|    Legacy|\n",
            "+-----------------+----------+\n",
            "only showing top 5 rows\n",
            "\n"
          ]
        }
      ]
    },
    {
      "cell_type": "markdown",
      "metadata": {
        "id": "adqVXFPbCwx9"
      },
      "source": [
        "**.filter()**\n",
        "\n",
        "Метод .filter() принимает условия для фильтрации:"
      ]
    },
    {
      "cell_type": "code",
      "metadata": {
        "colab": {
          "base_uri": "https://localhost:8080/"
        },
        "id": "iFFxopmiCwPU",
        "outputId": "d8ea5175-935f-469d-9eed-34ce371678ec"
      },
      "source": [
        "df.select('manufacturer_name', 'model_name')\\\n",
        "  .filter('manufacturer_name = \"Audi\"').show(5)"
      ],
      "execution_count": 105,
      "outputs": [
        {
          "output_type": "stream",
          "name": "stdout",
          "text": [
            "+-----------------+----------+\n",
            "|manufacturer_name|model_name|\n",
            "+-----------------+----------+\n",
            "|             Audi|        Q7|\n",
            "|             Audi|        TT|\n",
            "|             Audi|       100|\n",
            "|             Audi|        A6|\n",
            "|             Audi|        Q3|\n",
            "+-----------------+----------+\n",
            "only showing top 5 rows\n",
            "\n"
          ]
        }
      ]
    },
    {
      "cell_type": "code",
      "metadata": {
        "colab": {
          "base_uri": "https://localhost:8080/"
        },
        "id": "_vX9eIk5COXf",
        "outputId": "e6122eb5-236f-4746-a948-e85c38a4fd65"
      },
      "source": [
        "#доп  фильтры  and \n",
        "df.select('manufacturer_name', 'model_name', 'transmission')\\\n",
        "  .filter('manufacturer_name ==\"Audi\" and transmission == \"mechanical\"')\\\n",
        "  .show(5)\n",
        "# или так \n",
        "df.select('manufacturer_name', 'model_name', 'transmission')\\\n",
        "  .filter('manufacturer_name == \"Audi\"')\\\n",
        "  .filter('transmission == \"mechanical\"')\\\n",
        "  .show(5)"
      ],
      "execution_count": 112,
      "outputs": [
        {
          "output_type": "stream",
          "name": "stdout",
          "text": [
            "+-----------------+----------+------------+\n",
            "|manufacturer_name|model_name|transmission|\n",
            "+-----------------+----------+------------+\n",
            "|             Audi|       100|  mechanical|\n",
            "|             Audi|A6 Allroad|  mechanical|\n",
            "|             Audi|       100|  mechanical|\n",
            "|             Audi|        A4|  mechanical|\n",
            "|             Audi|        80|  mechanical|\n",
            "+-----------------+----------+------------+\n",
            "only showing top 5 rows\n",
            "\n",
            "+-----------------+----------+------------+\n",
            "|manufacturer_name|model_name|transmission|\n",
            "+-----------------+----------+------------+\n",
            "|             Audi|       100|  mechanical|\n",
            "|             Audi|A6 Allroad|  mechanical|\n",
            "|             Audi|       100|  mechanical|\n",
            "|             Audi|        A4|  mechanical|\n",
            "|             Audi|        80|  mechanical|\n",
            "+-----------------+----------+------------+\n",
            "only showing top 5 rows\n",
            "\n"
          ]
        }
      ]
    },
    {
      "cell_type": "code",
      "metadata": {
        "colab": {
          "base_uri": "https://localhost:8080/"
        },
        "id": "eHYfvzbiELj0",
        "outputId": "6e377dc4-993a-48cc-ba76-6c9482843d65"
      },
      "source": [
        "#в формате  фильтрации  ниже можно запихивать питоновские переменные \n",
        "NAME = 'Audi'\n",
        "df.select('manufacturer_name', 'model_name', 'transmission')\\\n",
        "  .filter(f.col('manufacturer_name') == NAME)\\\n",
        "  .filter(f.col('transmission') == 'mechanical')\\\n",
        "  .show(5)"
      ],
      "execution_count": 114,
      "outputs": [
        {
          "output_type": "stream",
          "name": "stdout",
          "text": [
            "+-----------------+----------+------------+\n",
            "|manufacturer_name|model_name|transmission|\n",
            "+-----------------+----------+------------+\n",
            "|             Audi|       100|  mechanical|\n",
            "|             Audi|A6 Allroad|  mechanical|\n",
            "|             Audi|       100|  mechanical|\n",
            "|             Audi|        A4|  mechanical|\n",
            "|             Audi|        80|  mechanical|\n",
            "+-----------------+----------+------------+\n",
            "only showing top 5 rows\n",
            "\n"
          ]
        }
      ]
    },
    {
      "cell_type": "markdown",
      "metadata": {
        "id": "c2SgR-SuFY_5"
      },
      "source": [
        "**.count()**\n",
        "\n",
        "Подсчет кол-ва строк:\n"
      ]
    },
    {
      "cell_type": "code",
      "metadata": {
        "colab": {
          "base_uri": "https://localhost:8080/"
        },
        "id": "2pVLj9XHFT_s",
        "outputId": "45e6a6d7-acd2-4aee-c58e-0ad7b51f1a62"
      },
      "source": [
        "df.count()"
      ],
      "execution_count": 115,
      "outputs": [
        {
          "output_type": "execute_result",
          "data": {
            "text/plain": [
              "38531"
            ]
          },
          "metadata": {},
          "execution_count": 115
        }
      ]
    },
    {
      "cell_type": "markdown",
      "metadata": {
        "id": "AoP-Ooi4GCNq"
      },
      "source": [
        "уникальные строки  по колонке "
      ]
    },
    {
      "cell_type": "code",
      "metadata": {
        "colab": {
          "base_uri": "https://localhost:8080/"
        },
        "id": "dmIEx8dqGANk",
        "outputId": "dd199882-1d42-4fb2-eb38-393077137e4f"
      },
      "source": [
        "df.select(\"manufacturer_name\").distinct().count()"
      ],
      "execution_count": 116,
      "outputs": [
        {
          "output_type": "execute_result",
          "data": {
            "text/plain": [
              "55"
            ]
          },
          "metadata": {},
          "execution_count": 116
        }
      ]
    },
    {
      "cell_type": "markdown",
      "metadata": {
        "id": "YJVmTN2BG0UC"
      },
      "source": [
        "**.groupBy() and .orderBy()**\n",
        "\n",
        "Группировка и агрегация (аналог GROUP BY в SQL):"
      ]
    },
    {
      "cell_type": "code",
      "metadata": {
        "colab": {
          "base_uri": "https://localhost:8080/"
        },
        "id": "ZcSJNvyRGUm8",
        "outputId": "531fae5c-bca4-46ec-b58b-842388d2c93f"
      },
      "source": [
        "# сгрупировать по manufacturer_name и посчитать кол-во каждого\n",
        "df.groupby('manufacturer_name')\\\n",
        "  .count()\\\n",
        "  .distinct()\\\n",
        "  .orderBy('count')\\\n",
        "  .show(5)\n",
        "\n",
        "#или с заданной сортировкой # desc/asc\n",
        "df.groupby('manufacturer_name')\\\n",
        "  .count()\\\n",
        "  .distinct()\\\n",
        "  .orderBy(f.col('count').desc())\\\n",
        "  .show(5)\n",
        "# еще один способ сортировки указать  минус  \n",
        "df.groupby('manufacturer_name')\\\n",
        "  .count()\\\n",
        "  .distinct()\\\n",
        "  .orderBy( - f.col('count'))\\\n",
        "  .show(5)"
      ],
      "execution_count": 126,
      "outputs": [
        {
          "output_type": "stream",
          "name": "stdout",
          "text": [
            "+-----------------+-----+\n",
            "|manufacturer_name|count|\n",
            "+-----------------+-----+\n",
            "|          Lincoln|   36|\n",
            "|       Great Wall|   36|\n",
            "|              ЗАЗ|   42|\n",
            "|          Pontiac|   42|\n",
            "|         Cadillac|   43|\n",
            "+-----------------+-----+\n",
            "only showing top 5 rows\n",
            "\n",
            "+-----------------+-----+\n",
            "|manufacturer_name|count|\n",
            "+-----------------+-----+\n",
            "|       Volkswagen| 4243|\n",
            "|             Opel| 2759|\n",
            "|              BMW| 2610|\n",
            "|             Ford| 2566|\n",
            "|          Renault| 2493|\n",
            "+-----------------+-----+\n",
            "only showing top 5 rows\n",
            "\n",
            "+-----------------+-----+\n",
            "|manufacturer_name|count|\n",
            "+-----------------+-----+\n",
            "|       Volkswagen| 4243|\n",
            "|             Opel| 2759|\n",
            "|              BMW| 2610|\n",
            "|             Ford| 2566|\n",
            "|          Renault| 2493|\n",
            "+-----------------+-----+\n",
            "only showing top 5 rows\n",
            "\n"
          ]
        }
      ]
    },
    {
      "cell_type": "markdown",
      "metadata": {
        "id": "izxU8ly2cK4c"
      },
      "source": [
        "\n",
        "**.withColumnRenamed() and .withColumn()** \n",
        "\n",
        "Переименовать существующую колонку:"
      ]
    },
    {
      "cell_type": "code",
      "metadata": {
        "colab": {
          "base_uri": "https://localhost:8080/"
        },
        "id": "qho9omHtcu17",
        "outputId": "352b59e9-9f80-4246-8bec-ba6ce5b2596a"
      },
      "source": [
        "df.withColumnRenamed('manufacturer_name', 'manufacturer')\\\n",
        "  .select('manufacturer')\\\n",
        "  .show(5)"
      ],
      "execution_count": 127,
      "outputs": [
        {
          "output_type": "stream",
          "name": "stdout",
          "text": [
            "+------------+\n",
            "|manufacturer|\n",
            "+------------+\n",
            "|      Subaru|\n",
            "|      Subaru|\n",
            "|      Subaru|\n",
            "|      Subaru|\n",
            "|      Subaru|\n",
            "+------------+\n",
            "only showing top 5 rows\n",
            "\n"
          ]
        }
      ]
    },
    {
      "cell_type": "markdown",
      "metadata": {
        "id": "fHL9U1vagkDo"
      },
      "source": [
        "Создать новую колонку. Первый аргумент это название новой колонки, второй агрумент это выражение (обязательно использовать col() если ссылаемся на другую колонку):"
      ]
    },
    {
      "cell_type": "code",
      "metadata": {
        "colab": {
          "base_uri": "https://localhost:8080/"
        },
        "id": "efaUFup2gTvV",
        "outputId": "b7fbaf34-ee8a-4f30-a119-c103d35a5dc4"
      },
      "source": [
        "df.withColumn('next_year', f.col('year_produced')+1)\\\n",
        "  .select('next_year','year_produced')\\\n",
        "  .show(5)"
      ],
      "execution_count": 131,
      "outputs": [
        {
          "output_type": "stream",
          "name": "stdout",
          "text": [
            "+---------+-------------+\n",
            "|next_year|year_produced|\n",
            "+---------+-------------+\n",
            "|   2011.0|         2010|\n",
            "|   2003.0|         2002|\n",
            "|   2002.0|         2001|\n",
            "|   2000.0|         1999|\n",
            "|   2002.0|         2001|\n",
            "+---------+-------------+\n",
            "only showing top 5 rows\n",
            "\n"
          ]
        }
      ]
    },
    {
      "cell_type": "markdown",
      "metadata": {
        "id": "4mIXH-WwigBl"
      },
      "source": [
        "**.printSchema() and .describe()**\n",
        "\n",
        "\n",
        "Вывести схему датафрейма (типы колонок):"
      ]
    },
    {
      "cell_type": "code",
      "metadata": {
        "colab": {
          "base_uri": "https://localhost:8080/"
        },
        "id": "rA8OK73PidP5",
        "outputId": "31ffaa7f-8b79-443d-dc06-396016596980"
      },
      "source": [
        "df.printSchema()"
      ],
      "execution_count": 132,
      "outputs": [
        {
          "output_type": "stream",
          "name": "stdout",
          "text": [
            "root\n",
            " |-- manufacturer_name: string (nullable = true)\n",
            " |-- model_name: string (nullable = true)\n",
            " |-- transmission: string (nullable = true)\n",
            " |-- color: string (nullable = true)\n",
            " |-- odometer_value: string (nullable = true)\n",
            " |-- year_produced: string (nullable = true)\n",
            " |-- engine_fuel: string (nullable = true)\n",
            " |-- engine_has_gas: string (nullable = true)\n",
            " |-- engine_type: string (nullable = true)\n",
            " |-- engine_capacity: string (nullable = true)\n",
            " |-- body_type: string (nullable = true)\n",
            " |-- has_warranty: string (nullable = true)\n",
            " |-- state: string (nullable = true)\n",
            " |-- drivetrain: string (nullable = true)\n",
            " |-- price_usd: string (nullable = true)\n",
            " |-- is_exchangeable: string (nullable = true)\n",
            " |-- location_region: string (nullable = true)\n",
            " |-- number_of_photos: string (nullable = true)\n",
            " |-- up_counter: string (nullable = true)\n",
            " |-- feature_0: string (nullable = true)\n",
            " |-- feature_1: string (nullable = true)\n",
            " |-- feature_2: string (nullable = true)\n",
            " |-- feature_3: string (nullable = true)\n",
            " |-- feature_4: string (nullable = true)\n",
            " |-- feature_5: string (nullable = true)\n",
            " |-- feature_6: string (nullable = true)\n",
            " |-- feature_7: string (nullable = true)\n",
            " |-- feature_8: string (nullable = true)\n",
            " |-- feature_9: string (nullable = true)\n",
            " |-- duration_listed: string (nullable = true)\n",
            "\n"
          ]
        }
      ]
    },
    {
      "cell_type": "code",
      "metadata": {
        "colab": {
          "base_uri": "https://localhost:8080/"
        },
        "id": "NU7PDAGZis0v",
        "outputId": "2b55162d-be96-4b07-ad48-316f5e545858"
      },
      "source": [
        "df.describe().show()"
      ],
      "execution_count": 134,
      "outputs": [
        {
          "output_type": "stream",
          "name": "stdout",
          "text": [
            "+-------+-----------------+------------------+------------+------+------------------+------------------+-------------+--------------+-----------+-----------------+---------+------------+---------+----------+-----------------+---------------+----------------+-----------------+------------------+---------+---------+---------+---------+---------+---------+---------+---------+---------+---------+------------------+\n",
            "|summary|manufacturer_name|        model_name|transmission| color|    odometer_value|     year_produced|  engine_fuel|engine_has_gas|engine_type|  engine_capacity|body_type|has_warranty|    state|drivetrain|        price_usd|is_exchangeable| location_region| number_of_photos|        up_counter|feature_0|feature_1|feature_2|feature_3|feature_4|feature_5|feature_6|feature_7|feature_8|feature_9|   duration_listed|\n",
            "+-------+-----------------+------------------+------------+------+------------------+------------------+-------------+--------------+-----------+-----------------+---------+------------+---------+----------+-----------------+---------------+----------------+-----------------+------------------+---------+---------+---------+---------+---------+---------+---------+---------+---------+---------+------------------+\n",
            "|  count|            38531|             38531|       38531| 38531|             38531|             38531|        38531|         38531|      38531|            38521|    38531|       38531|    38531|     38531|            38531|          38531|           38531|            38531|             38531|    38531|    38531|    38531|    38531|    38531|    38531|    38531|    38531|    38531|    38531|             38531|\n",
            "|   mean|             null|1168.2918056562726|        null|  null| 248864.6384469648|2002.9437336170874|         null|          null|       null|2.055161106928777|     null|        null|     null|      null|6639.971021255605|           null|            null|9.649061794399314|16.306091199294073|     null|     null|     null|     null|     null|     null|     null|     null|     null|     null|  80.5772494874257|\n",
            "| stddev|             null| 9820.119520829581|        null|  null|136072.37652978086| 8.065730511309935|         null|          null|       null|0.671177667208744|     null|        null|     null|      null|6428.152018202911|           null|            null|6.093216996872852| 43.28693309422311|     null|     null|     null|     null|     null|     null|     null|     null|     null|     null|112.82656864261321|\n",
            "|    min|            Acura|               100|   automatic| black|                 0|              1942|       diesel|         False|     diesel|              0.2|cabriolet|       False|emergency|       all|              1.0|          False|  Брестская обл.|                1|                 1|    False|    False|    False|    False|    False|    False|    False|    False|    False|    False|                 0|\n",
            "|    max|              УАЗ|            Таврия|  mechanical|yellow|            999999|              2019|hybrid-petrol|          True|   gasoline|              8.0|      van|        True|    owned|      rear|           9999.0|           True|Могилевская обл.|                9|                99|     True|     True|     True|     True|     True|     True|     True|     True|     True|     True|               995|\n",
            "+-------+-----------------+------------------+------------+------+------------------+------------------+-------------+--------------+-----------+-----------------+---------+------------+---------+----------+-----------------+---------------+----------------+-----------------+------------------+---------+---------+---------+---------+---------+---------+---------+---------+---------+---------+------------------+\n",
            "\n"
          ]
        }
      ]
    },
    {
      "cell_type": "code",
      "metadata": {
        "id": "PvjwI5tRi93B"
      },
      "source": [
        "#оставнока сессии\n",
        "spark.stop()"
      ],
      "execution_count": null,
      "outputs": []
    }
  ]
}